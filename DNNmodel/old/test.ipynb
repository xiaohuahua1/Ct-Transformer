{
 "cells": [
  {
   "cell_type": "code",
   "execution_count": 1,
   "metadata": {},
   "outputs": [],
   "source": [
    "import numpy as np\n",
    "import matplotlib.pyplot as plt\n",
    "import networkx as nx\n",
    "from data_process import *\n",
    "from args import *\n",
    "from models import *\n",
    "import torch"
   ]
  },
  {
   "cell_type": "code",
   "execution_count": 13,
   "metadata": {},
   "outputs": [
    {
     "name": "stdout",
     "output_type": "stream",
     "text": [
      "[2, 7, 12]\n"
     ]
    },
    {
     "data": {
      "image/png": "[encoded data removed]",
      "text/plain": [
       "<Figure size 432x288 with 1 Axes>"
      ]
     },
     "metadata": {
      "needs_background": "light"
     },
     "output_type": "display_data"
    }
   ],
   "source": [
    "loss = [1,2,3,4,5,2,3,4,5,6,3,4,5,6,7]\n",
    "loss_mean = [3,4,5]\n",
    "delta = int(len(loss) / len(loss_mean))\n",
    "median_delta = int(delta/2)\n",
    "x1 = [i for i in range(median_delta,3*delta,delta)]\n",
    "print(x1)\n",
    "x = [i for i in range(len(loss))]\n",
    "plt.plot(x,loss,'r')\n",
    "plt.xticks(x, ['']*len(x))\n",
    "label = [1,2,3]\n",
    "plt.plot(x1,loss_mean,'b')\n",
    "plt.xticks(x1, label)\n",
    "plt.show()"
   ]
  },
  {
   "cell_type": "code",
   "execution_count": 4,
   "metadata": {},
   "outputs": [
    {
     "name": "stdout",
     "output_type": "stream",
     "text": [
      "2.0.0+cpu\n"
     ]
    }
   ],
   "source": [
    "print(torch.__version__)"
   ]
  },
  {
   "cell_type": "code",
   "execution_count": 14,
   "metadata": {},
   "outputs": [
    {
     "name": "stdout",
     "output_type": "stream",
     "text": [
      "torch.Size([32, 7])\n"
     ]
    }
   ],
   "source": [
    "batch = 32\n",
    "len = 7\n",
    "hidden = 1\n",
    "a = torch.zeros(batch,len,hidden)\n",
    "b = torch.ones(batch,1,hidden)\n",
    "c = torch.concat([b,a],dim=1)\n",
    "c = c.squeeze(2)\n",
    "c = c[:,:-1]\n",
    "print(c.shape)"
   ]
  },
  {
   "cell_type": "code",
   "execution_count": 21,
   "metadata": {},
   "outputs": [
    {
     "name": "stdout",
     "output_type": "stream",
     "text": [
      "torch.Size([32, 8, 7, 6])\n",
      "tensor([[[[1., 1., 1., 1., 1., 1.],\n",
      "          [1., 1., 1., 1., 1., 1.],\n",
      "          [1., 1., 1., 1., 1., 1.],\n",
      "          ...,\n",
      "          [1., 1., 1., 1., 1., 1.],\n",
      "          [1., 1., 1., 1., 1., 1.],\n",
      "          [1., 1., 1., 1., 1., 1.]],\n",
      "\n",
      "         [[1., 1., 1., 1., 1., 1.],\n",
      "          [1., 1., 1., 1., 1., 1.],\n",
      "          [1., 1., 1., 1., 1., 1.],\n",
      "          ...,\n",
      "          [1., 1., 1., 1., 1., 1.],\n",
      "          [1., 1., 1., 1., 1., 1.],\n",
      "          [1., 1., 1., 1., 1., 1.]],\n",
      "\n",
      "         [[1., 1., 1., 1., 1., 1.],\n",
      "          [1., 1., 1., 1., 1., 1.],\n",
      "          [1., 1., 1., 1., 1., 1.],\n",
      "          ...,\n",
      "          [1., 1., 1., 1., 1., 1.],\n",
      "          [1., 1., 1., 1., 1., 1.],\n",
      "          [1., 1., 1., 1., 1., 1.]],\n",
      "\n",
      "         ...,\n",
      "\n",
      "         [[1., 1., 1., 1., 1., 1.],\n",
      "          [1., 1., 1., 1., 1., 1.],\n",
      "          [1., 1., 1., 1., 1., 1.],\n",
      "          ...,\n",
      "          [1., 1., 1., 1., 1., 1.],\n",
      "          [1., 1., 1., 1., 1., 1.],\n",
      "          [1., 1., 1., 1., 1., 1.]],\n",
      "\n",
      "         [[1., 1., 1., 1., 1., 1.],\n",
      "          [1., 1., 1., 1., 1., 1.],\n",
      "          [1., 1., 1., 1., 1., 1.],\n",
      "          ...,\n",
      "          [1., 1., 1., 1., 1., 1.],\n",
      "          [1., 1., 1., 1., 1., 1.],\n",
      "          [1., 1., 1., 1., 1., 1.]],\n",
      "\n",
      "         [[1., 1., 1., 1., 1., 1.],\n",
      "          [1., 1., 1., 1., 1., 1.],\n",
      "          [1., 1., 1., 1., 1., 1.],\n",
      "          ...,\n",
      "          [1., 1., 1., 1., 1., 1.],\n",
      "          [1., 1., 1., 1., 1., 1.],\n",
      "          [1., 1., 1., 1., 1., 1.]]],\n",
      "\n",
      "\n",
      "        [[[1., 1., 1., 1., 1., 1.],\n",
      "          [1., 1., 1., 1., 1., 1.],\n",
      "          [1., 1., 1., 1., 1., 1.],\n",
      "          ...,\n",
      "          [1., 1., 1., 1., 1., 1.],\n",
      "          [1., 1., 1., 1., 1., 1.],\n",
      "          [1., 1., 1., 1., 1., 1.]],\n",
      "\n",
      "         [[1., 1., 1., 1., 1., 1.],\n",
      "          [1., 1., 1., 1., 1., 1.],\n",
      "          [1., 1., 1., 1., 1., 1.],\n",
      "          ...,\n",
      "          [1., 1., 1., 1., 1., 1.],\n",
      "          [1., 1., 1., 1., 1., 1.],\n",
      "          [1., 1., 1., 1., 1., 1.]],\n",
      "\n",
      "         [[1., 1., 1., 1., 1., 1.],\n",
      "          [1., 1., 1., 1., 1., 1.],\n",
      "          [1., 1., 1., 1., 1., 1.],\n",
      "          ...,\n",
      "          [1., 1., 1., 1., 1., 1.],\n",
      "          [1., 1., 1., 1., 1., 1.],\n",
      "          [1., 1., 1., 1., 1., 1.]],\n",
      "\n",
      "         ...,\n",
      "\n",
      "         [[1., 1., 1., 1., 1., 1.],\n",
      "          [1., 1., 1., 1., 1., 1.],\n",
      "          [1., 1., 1., 1., 1., 1.],\n",
      "          ...,\n",
      "          [1., 1., 1., 1., 1., 1.],\n",
      "          [1., 1., 1., 1., 1., 1.],\n",
      "          [1., 1., 1., 1., 1., 1.]],\n",
      "\n",
      "         [[1., 1., 1., 1., 1., 1.],\n",
      "          [1., 1., 1., 1., 1., 1.],\n",
      "          [1., 1., 1., 1., 1., 1.],\n",
      "          ...,\n",
      "          [1., 1., 1., 1., 1., 1.],\n",
      "          [1., 1., 1., 1., 1., 1.],\n",
      "          [1., 1., 1., 1., 1., 1.]],\n",
      "\n",
      "         [[1., 1., 1., 1., 1., 1.],\n",
      "          [1., 1., 1., 1., 1., 1.],\n",
      "          [1., 1., 1., 1., 1., 1.],\n",
      "          ...,\n",
      "          [1., 1., 1., 1., 1., 1.],\n",
      "          [1., 1., 1., 1., 1., 1.],\n",
      "          [1., 1., 1., 1., 1., 1.]]],\n",
      "\n",
      "\n",
      "        [[[1., 1., 1., 1., 1., 1.],\n",
      "          [1., 1., 1., 1., 1., 1.],\n",
      "          [1., 1., 1., 1., 1., 1.],\n",
      "          ...,\n",
      "          [1., 1., 1., 1., 1., 1.],\n",
      "          [1., 1., 1., 1., 1., 1.],\n",
      "          [1., 1., 1., 1., 1., 1.]],\n",
      "\n",
      "         [[1., 1., 1., 1., 1., 1.],\n",
      "          [1., 1., 1., 1., 1., 1.],\n",
      "          [1., 1., 1., 1., 1., 1.],\n",
      "          ...,\n",
      "          [1., 1., 1., 1., 1., 1.],\n",
      "          [1., 1., 1., 1., 1., 1.],\n",
      "          [1., 1., 1., 1., 1., 1.]],\n",
      "\n",
      "         [[1., 1., 1., 1., 1., 1.],\n",
      "          [1., 1., 1., 1., 1., 1.],\n",
      "          [1., 1., 1., 1., 1., 1.],\n",
      "          ...,\n",
      "          [1., 1., 1., 1., 1., 1.],\n",
      "          [1., 1., 1., 1., 1., 1.],\n",
      "          [1., 1., 1., 1., 1., 1.]],\n",
      "\n",
      "         ...,\n",
      "\n",
      "         [[1., 1., 1., 1., 1., 1.],\n",
      "          [1., 1., 1., 1., 1., 1.],\n",
      "          [1., 1., 1., 1., 1., 1.],\n",
      "          ...,\n",
      "          [1., 1., 1., 1., 1., 1.],\n",
      "          [1., 1., 1., 1., 1., 1.],\n",
      "          [1., 1., 1., 1., 1., 1.]],\n",
      "\n",
      "         [[1., 1., 1., 1., 1., 1.],\n",
      "          [1., 1., 1., 1., 1., 1.],\n",
      "          [1., 1., 1., 1., 1., 1.],\n",
      "          ...,\n",
      "          [1., 1., 1., 1., 1., 1.],\n",
      "          [1., 1., 1., 1., 1., 1.],\n",
      "          [1., 1., 1., 1., 1., 1.]],\n",
      "\n",
      "         [[1., 1., 1., 1., 1., 1.],\n",
      "          [1., 1., 1., 1., 1., 1.],\n",
      "          [1., 1., 1., 1., 1., 1.],\n",
      "          ...,\n",
      "          [1., 1., 1., 1., 1., 1.],\n",
      "          [1., 1., 1., 1., 1., 1.],\n",
      "          [1., 1., 1., 1., 1., 1.]]],\n",
      "\n",
      "\n",
      "        ...,\n",
      "\n",
      "\n",
      "        [[[1., 1., 1., 1., 1., 1.],\n",
      "          [1., 1., 1., 1., 1., 1.],\n",
      "          [1., 1., 1., 1., 1., 1.],\n",
      "          ...,\n",
      "          [1., 1., 1., 1., 1., 1.],\n",
      "          [1., 1., 1., 1., 1., 1.],\n",
      "          [1., 1., 1., 1., 1., 1.]],\n",
      "\n",
      "         [[1., 1., 1., 1., 1., 1.],\n",
      "          [1., 1., 1., 1., 1., 1.],\n",
      "          [1., 1., 1., 1., 1., 1.],\n",
      "          ...,\n",
      "          [1., 1., 1., 1., 1., 1.],\n",
      "          [1., 1., 1., 1., 1., 1.],\n",
      "          [1., 1., 1., 1., 1., 1.]],\n",
      "\n",
      "         [[1., 1., 1., 1., 1., 1.],\n",
      "          [1., 1., 1., 1., 1., 1.],\n",
      "          [1., 1., 1., 1., 1., 1.],\n",
      "          ...,\n",
      "          [1., 1., 1., 1., 1., 1.],\n",
      "          [1., 1., 1., 1., 1., 1.],\n",
      "          [1., 1., 1., 1., 1., 1.]],\n",
      "\n",
      "         ...,\n",
      "\n",
      "         [[1., 1., 1., 1., 1., 1.],\n",
      "          [1., 1., 1., 1., 1., 1.],\n",
      "          [1., 1., 1., 1., 1., 1.],\n",
      "          ...,\n",
      "          [1., 1., 1., 1., 1., 1.],\n",
      "          [1., 1., 1., 1., 1., 1.],\n",
      "          [1., 1., 1., 1., 1., 1.]],\n",
      "\n",
      "         [[1., 1., 1., 1., 1., 1.],\n",
      "          [1., 1., 1., 1., 1., 1.],\n",
      "          [1., 1., 1., 1., 1., 1.],\n",
      "          ...,\n",
      "          [1., 1., 1., 1., 1., 1.],\n",
      "          [1., 1., 1., 1., 1., 1.],\n",
      "          [1., 1., 1., 1., 1., 1.]],\n",
      "\n",
      "         [[1., 1., 1., 1., 1., 1.],\n",
      "          [1., 1., 1., 1., 1., 1.],\n",
      "          [1., 1., 1., 1., 1., 1.],\n",
      "          ...,\n",
      "          [1., 1., 1., 1., 1., 1.],\n",
      "          [1., 1., 1., 1., 1., 1.],\n",
      "          [1., 1., 1., 1., 1., 1.]]],\n",
      "\n",
      "\n",
      "        [[[1., 1., 1., 1., 1., 1.],\n",
      "          [1., 1., 1., 1., 1., 1.],\n",
      "          [1., 1., 1., 1., 1., 1.],\n",
      "          ...,\n",
      "          [1., 1., 1., 1., 1., 1.],\n",
      "          [1., 1., 1., 1., 1., 1.],\n",
      "          [1., 1., 1., 1., 1., 1.]],\n",
      "\n",
      "         [[1., 1., 1., 1., 1., 1.],\n",
      "          [1., 1., 1., 1., 1., 1.],\n",
      "          [1., 1., 1., 1., 1., 1.],\n",
      "          ...,\n",
      "          [1., 1., 1., 1., 1., 1.],\n",
      "          [1., 1., 1., 1., 1., 1.],\n",
      "          [1., 1., 1., 1., 1., 1.]],\n",
      "\n",
      "         [[1., 1., 1., 1., 1., 1.],\n",
      "          [1., 1., 1., 1., 1., 1.],\n",
      "          [1., 1., 1., 1., 1., 1.],\n",
      "          ...,\n",
      "          [1., 1., 1., 1., 1., 1.],\n",
      "          [1., 1., 1., 1., 1., 1.],\n",
      "          [1., 1., 1., 1., 1., 1.]],\n",
      "\n",
      "         ...,\n",
      "\n",
      "         [[1., 1., 1., 1., 1., 1.],\n",
      "          [1., 1., 1., 1., 1., 1.],\n",
      "          [1., 1., 1., 1., 1., 1.],\n",
      "          ...,\n",
      "          [1., 1., 1., 1., 1., 1.],\n",
      "          [1., 1., 1., 1., 1., 1.],\n",
      "          [1., 1., 1., 1., 1., 1.]],\n",
      "\n",
      "         [[1., 1., 1., 1., 1., 1.],\n",
      "          [1., 1., 1., 1., 1., 1.],\n",
      "          [1., 1., 1., 1., 1., 1.],\n",
      "          ...,\n",
      "          [1., 1., 1., 1., 1., 1.],\n",
      "          [1., 1., 1., 1., 1., 1.],\n",
      "          [1., 1., 1., 1., 1., 1.]],\n",
      "\n",
      "         [[1., 1., 1., 1., 1., 1.],\n",
      "          [1., 1., 1., 1., 1., 1.],\n",
      "          [1., 1., 1., 1., 1., 1.],\n",
      "          ...,\n",
      "          [1., 1., 1., 1., 1., 1.],\n",
      "          [1., 1., 1., 1., 1., 1.],\n",
      "          [1., 1., 1., 1., 1., 1.]]],\n",
      "\n",
      "\n",
      "        [[[1., 1., 1., 1., 1., 1.],\n",
      "          [1., 1., 1., 1., 1., 1.],\n",
      "          [1., 1., 1., 1., 1., 1.],\n",
      "          ...,\n",
      "          [1., 1., 1., 1., 1., 1.],\n",
      "          [1., 1., 1., 1., 1., 1.],\n",
      "          [1., 1., 1., 1., 1., 1.]],\n",
      "\n",
      "         [[1., 1., 1., 1., 1., 1.],\n",
      "          [1., 1., 1., 1., 1., 1.],\n",
      "          [1., 1., 1., 1., 1., 1.],\n",
      "          ...,\n",
      "          [1., 1., 1., 1., 1., 1.],\n",
      "          [1., 1., 1., 1., 1., 1.],\n",
      "          [1., 1., 1., 1., 1., 1.]],\n",
      "\n",
      "         [[1., 1., 1., 1., 1., 1.],\n",
      "          [1., 1., 1., 1., 1., 1.],\n",
      "          [1., 1., 1., 1., 1., 1.],\n",
      "          ...,\n",
      "          [1., 1., 1., 1., 1., 1.],\n",
      "          [1., 1., 1., 1., 1., 1.],\n",
      "          [1., 1., 1., 1., 1., 1.]],\n",
      "\n",
      "         ...,\n",
      "\n",
      "         [[1., 1., 1., 1., 1., 1.],\n",
      "          [1., 1., 1., 1., 1., 1.],\n",
      "          [1., 1., 1., 1., 1., 1.],\n",
      "          ...,\n",
      "          [1., 1., 1., 1., 1., 1.],\n",
      "          [1., 1., 1., 1., 1., 1.],\n",
      "          [1., 1., 1., 1., 1., 1.]],\n",
      "\n",
      "         [[1., 1., 1., 1., 1., 1.],\n",
      "          [1., 1., 1., 1., 1., 1.],\n",
      "          [1., 1., 1., 1., 1., 1.],\n",
      "          ...,\n",
      "          [1., 1., 1., 1., 1., 1.],\n",
      "          [1., 1., 1., 1., 1., 1.],\n",
      "          [1., 1., 1., 1., 1., 1.]],\n",
      "\n",
      "         [[1., 1., 1., 1., 1., 1.],\n",
      "          [1., 1., 1., 1., 1., 1.],\n",
      "          [1., 1., 1., 1., 1., 1.],\n",
      "          ...,\n",
      "          [1., 1., 1., 1., 1., 1.],\n",
      "          [1., 1., 1., 1., 1., 1.],\n",
      "          [1., 1., 1., 1., 1., 1.]]]])\n"
     ]
    }
   ],
   "source": [
    "batch = 32\n",
    "len = 7\n",
    "hidden = 6\n",
    "a = torch.ones(batch,len,hidden)\n",
    "c = a.unsqueeze(1)\n",
    "c = c.repeat(1,8,1,1)\n",
    "print(c.shape)\n",
    "print(c)"
   ]
  },
  {
   "cell_type": "code",
   "execution_count": 8,
   "metadata": {},
   "outputs": [
    {
     "name": "stderr",
     "output_type": "stream",
     "text": [
      "usage: ipykernel_launcher.py [-h] [--readDate_type READDATE_TYPE]\n",
      "                             [--Dataset_type DATASET_TYPE] [--epochs EPOCHS]\n",
      "                             [--group GROUP] [--seq_len SEQ_LEN]\n",
      "                             [--input_size INPUT_SIZE] [--d_model D_MODEL]\n",
      "                             [--output_size OUTPUT_SIZE] [--lr LR]\n",
      "                             [--batch_size BATCH_SIZE] [--optimizer OPTIMIZER]\n",
      "                             [--device DEVICE] [--weight_decay WEIGHT_DECAY]\n",
      "                             [--step_size STEP_SIZE]\n",
      "                             [--pred_step_size PRED_STEP_SIZE] [--gamma GAMMA]\n",
      "                             [--workers WORKERS]\n",
      "ipykernel_launcher.py: error: unrecognized arguments: --ip=127.0.0.1 --stdin=9003 --control=9001 --hb=9000 --Session.signature_scheme=\"hmac-sha256\" --Session.key=b\"171bc913-2fae-4fa5-9864-cdac9e9a5916\" --shell=9002 --transport=\"tcp\" --iopub=9004 --f=c:\\Users\\49217\\AppData\\Roaming\\jupyter\\runtime\\kernel-v2-17160t11G2eujghFa.json\n"
     ]
    },
    {
     "ename": "SystemExit",
     "evalue": "2",
     "output_type": "error",
     "traceback": [
      "An exception has occurred, use %tb to see the full traceback.\n",
      "\u001b[1;31mSystemExit\u001b[0m\u001b[1;31m:\u001b[0m 2\n"
     ]
    }
   ],
   "source": [
    "Inum = 10\n",
    "path_data = \"..\\\\results\\\\SF\\\\d=8R=2\"\n",
    "test_path = path_data + \"\\\\test\"\n",
    "val_path = path_data + \"\\\\val\"\n",
    "train_path = path_data + \"\\\\train\"\n",
    "\n",
    "args = transformer_Rt_args_parser()\n",
    "Dtr, Val, m, n = getTrainData(args,train_path,val_path,[],Inum)"
   ]
  },
  {
   "cell_type": "code",
   "execution_count": 2,
   "metadata": {},
   "outputs": [
    {
     "name": "stdout",
     "output_type": "stream",
     "text": [
      "[1, 2, 3, 4, 6, 8]\n"
     ]
    }
   ],
   "source": [
    "data = [1,2,3,4,6,8,9]\n",
    "# m,n = np.max(data),np.min(data)\n",
    "# data = (data - n) / (m - n)\n",
    "# print(data)\n",
    "print(data[:-1])"
   ]
  },
  {
   "cell_type": "code",
   "execution_count": 2,
   "metadata": {},
   "outputs": [
    {
     "name": "stdout",
     "output_type": "stream",
     "text": [
      "8\n",
      "10\n",
      "12\n"
     ]
    }
   ],
   "source": [
    "for i in range(8,13,2):\n",
    "    print(i)"
   ]
  },
  {
   "cell_type": "code",
   "execution_count": 2,
   "metadata": {},
   "outputs": [
    {
     "data": {
      "image/png": "[encoded data removed]",
      "text/plain": [
       "<Figure size 432x288 with 1 Axes>"
      ]
     },
     "metadata": {
      "needs_background": "light"
     },
     "output_type": "display_data"
    }
   ],
   "source": [
    "path = \"..\\\\results\\\\HM\\\\seq2seq\\\\sec-sec\"\n",
    "\n",
    "count = 0\n",
    "test_id = 247\n",
    "iF = open(path + \"\\\\I.txt\")\n",
    "linei = iF.readline()\n",
    "\n",
    "while linei:\n",
    "    linei = linei.split(' \\n')[0]\n",
    "    i_str = linei.split(' ')\n",
    "\n",
    "    I = [float(i_str[i]) for i in range(len(i_str))]\n",
    "\n",
    "    if count == test_id:\n",
    "        x = [i for i in range(len(I))]\n",
    "        plt.plot(x,I,'r')\n",
    "        plt.show()\n",
    "\n",
    "    linei = iF.readline()\n",
    "    count += 1\n",
    "\n",
    "iF.close()"
   ]
  }
 ],
 "metadata": {
  "kernelspec": {
   "display_name": "Python 3.9.12 ('base')",
   "language": "python",
   "name": "python3"
  },
  "language_info": {
   "codemirror_mode": {
    "name": "ipython",
    "version": 3
   },
   "file_extension": ".py",
   "mimetype": "text/x-python",
   "name": "python",
   "nbconvert_exporter": "python",
   "pygments_lexer": "ipython3",
   "version": "3.9.12"
  },
  "orig_nbformat": 4,
  "vscode": {
   "interpreter": {
    "hash": "91bb753b057673435fb8d6f6a083e6c818364728098c7ae050ca3a25357dd754"
   }
  }
 },
 "nbformat": 4,
 "nbformat_minor": 2
}
